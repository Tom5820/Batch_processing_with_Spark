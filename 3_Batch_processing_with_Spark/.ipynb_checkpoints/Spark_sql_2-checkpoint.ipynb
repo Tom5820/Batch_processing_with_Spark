{
 "cells": [
  {
   "cell_type": "code",
   "execution_count": 1,
   "metadata": {},
   "outputs": [],
   "source": [
    "import findspark\n",
    "findspark.init('C:\\Spark\\spark-3.1.3-bin-hadoop3.2')\n",
    "import pyspark\n",
    "from pyspark.sql import SparkSession\n",
    "from pyspark.sql import types\n",
    "import pandas as pd\n",
    "spark = SparkSession.builder \\\n",
    "    .master(\"local[*]\") \\\n",
    "    .appName('test') \\\n",
    "    .getOrCreate()"
   ]
  },
  {
   "cell_type": "code",
   "execution_count": 2,
   "metadata": {},
   "outputs": [],
   "source": [
    "spark.read.option('header','true').csv('zone_lookup.csv').schema\n",
    "df_zone_schema = types.StructType([\n",
    "types.StructField(\"LocationID\",types.IntegerType(),True),\n",
    "types.StructField(\"Borough\",types.StringType(),True),\n",
    "types.StructField(\"Zone\",types.StringType(),True),\n",
    "types.StructField(\"service_zone\",types.StringType(),True),\n",
    "])\n",
    "df_zone_lookup = spark.read \\\n",
    "        .option(\"header\", \"true\") \\\n",
    "        .schema(df_zone_schema) \\\n",
    "        .csv('file\\zone_lookup.csv')"
   ]
  },
  {
   "cell_type": "code",
   "execution_count": 3,
   "metadata": {},
   "outputs": [],
   "source": [
    "df_green = spark.read.parquet('file\\green_tripdata_2021-01.parquet')\n",
    "df_yellow = spark.read.parquet('file\\yellow_tripdata_2021-01.parquet')\n",
    "df_green.registerTempTable('taxi_green')\n",
    "df_yellow.registerTempTable('taxi_yellow')\n",
    "df_zone_lookup.registerTempTable('zone_lookup')"
   ]
  },
  {
   "cell_type": "code",
   "execution_count": 30,
   "metadata": {},
   "outputs": [
    {
     "name": "stdout",
     "output_type": "stream",
     "text": [
      "+--------+--------------------+---------------------+---------------+-------------+----------+------------------+------------+------------+------------+-----------+-----+-------+----------+------------+---------------------+------------+--------------------+-----------+\n",
      "|VendorID|tpep_pickup_datetime|tpep_dropoff_datetime|passenger_count|trip_distance|RatecodeID|store_and_fwd_flag|PULocationID|DOLocationID|payment_type|fare_amount|extra|mta_tax|tip_amount|tolls_amount|improvement_surcharge|total_amount|congestion_surcharge|airport_fee|\n",
      "+--------+--------------------+---------------------+---------------+-------------+----------+------------------+------------+------------+------------+-----------+-----+-------+----------+------------+---------------------+------------+--------------------+-----------+\n",
      "|       1| 2021-01-01 07:30:10|  2021-01-01 07:36:12|            1.0|          2.1|       1.0|                 N|         142|          43|           2|        8.0|  3.0|    0.5|       0.0|         0.0|                  0.3|        11.8|                 2.5|       null|\n",
      "|       1| 2021-01-01 07:51:20|  2021-01-01 07:52:19|            1.0|          0.2|       1.0|                 N|         238|         151|           2|        3.0|  0.5|    0.5|       0.0|         0.0|                  0.3|         4.3|                 0.0|       null|\n",
      "|       1| 2021-01-01 07:43:30|  2021-01-01 08:11:06|            1.0|         14.7|       1.0|                 N|         132|         165|           1|       42.0|  0.5|    0.5|      8.65|         0.0|                  0.3|       51.95|                 0.0|       null|\n",
      "|       1| 2021-01-01 07:15:48|  2021-01-01 07:31:01|            0.0|         10.6|       1.0|                 N|         138|         132|           1|       29.0|  0.5|    0.5|      6.05|         0.0|                  0.3|       36.35|                 0.0|       null|\n",
      "|       2| 2021-01-01 07:31:49|  2021-01-01 07:48:21|            1.0|         4.94|       1.0|                 N|          68|          33|           1|       16.5|  0.5|    0.5|      4.06|         0.0|                  0.3|       24.36|                 2.5|       null|\n",
      "|       1| 2021-01-01 07:16:29|  2021-01-01 07:24:30|            1.0|          1.6|       1.0|                 N|         224|          68|           1|        8.0|  3.0|    0.5|      2.35|         0.0|                  0.3|       14.15|                 2.5|       null|\n",
      "|       1| 2021-01-01 07:00:28|  2021-01-01 07:17:28|            1.0|          4.1|       1.0|                 N|          95|         157|           2|       16.0|  0.5|    0.5|       0.0|         0.0|                  0.3|        17.3|                 0.0|       null|\n",
      "|       1| 2021-01-01 07:12:29|  2021-01-01 07:30:34|            1.0|          5.7|       1.0|                 N|          90|          40|           2|       18.0|  3.0|    0.5|       0.0|         0.0|                  0.3|        21.8|                 2.5|       null|\n",
      "|       1| 2021-01-01 07:39:16|  2021-01-01 08:00:13|            1.0|          9.1|       1.0|                 N|          97|         129|           4|       27.5|  0.5|    0.5|       0.0|         0.0|                  0.3|        28.8|                 0.0|       null|\n",
      "|       1| 2021-01-01 07:26:12|  2021-01-01 07:39:46|            2.0|          2.7|       1.0|                 N|         263|         142|           1|       12.0|  3.0|    0.5|      3.15|         0.0|                  0.3|       18.95|                 2.5|       null|\n",
      "|       2| 2021-01-01 07:15:52|  2021-01-01 07:38:07|            3.0|         6.11|       1.0|                 N|         164|         255|           1|       20.5|  0.5|    0.5|       0.0|         0.0|                  0.3|        24.3|                 2.5|       null|\n",
      "|       2| 2021-01-01 07:46:36|  2021-01-01 07:53:45|            2.0|         1.21|       1.0|                 N|         255|          80|           1|        7.0|  0.5|    0.5|      2.49|         0.0|                  0.3|       10.79|                 0.0|       null|\n",
      "|       1| 2021-01-01 07:10:46|  2021-01-01 07:32:58|            2.0|          7.4|       1.0|                 N|         138|         166|           2|       24.5|  2.5|    0.5|       0.0|        6.12|                  0.3|       33.92|                 0.0|       null|\n",
      "|       2| 2021-01-01 07:31:06|  2021-01-01 07:38:52|            5.0|          1.7|       1.0|                 N|         142|          50|           1|        8.0|  0.5|    0.5|      2.36|         0.0|                  0.3|       14.16|                 2.5|       null|\n",
      "|       2| 2021-01-01 07:42:11|  2021-01-01 07:44:24|            5.0|         0.81|       1.0|                 N|          50|         142|           2|        4.5|  0.5|    0.5|       0.0|         0.0|                  0.3|         8.3|                 2.5|       null|\n",
      "|       2| 2021-01-01 07:17:48|  2021-01-01 07:21:55|            1.0|         1.01|       1.0|                 N|         236|         237|           1|        5.5|  0.5|    0.5|       1.0|         0.0|                  0.3|        10.3|                 2.5|       null|\n",
      "|       2| 2021-01-01 07:33:38|  2021-01-01 07:38:37|            1.0|         0.73|       1.0|                 N|         142|         239|           1|        5.5|  0.5|    0.5|      2.79|         0.0|                  0.3|       12.09|                 2.5|       null|\n",
      "|       2| 2021-01-01 07:47:56|  2021-01-01 07:52:53|            1.0|         1.17|       1.0|                 N|         238|         166|           1|        6.5|  0.5|    0.5|      2.06|         0.0|                  0.3|       12.36|                 2.5|       null|\n",
      "|       2| 2021-01-01 07:04:21|  2021-01-01 07:07:58|            1.0|         0.78|       1.0|                 N|         239|         238|           1|        4.5|  0.5|    0.5|      1.66|         0.0|                  0.3|        9.96|                 2.5|       null|\n",
      "|       2| 2021-01-01 07:18:36|  2021-01-01 07:27:10|            2.0|         1.66|       1.0|                 N|         151|         142|           2|        8.5|  0.5|    0.5|       0.0|         0.0|                  0.3|        12.3|                 2.5|       null|\n",
      "+--------+--------------------+---------------------+---------------+-------------+----------+------------------+------------+------------+------------+-----------+-----+-------+----------+------------+---------------------+------------+--------------------+-----------+\n",
      "only showing top 20 rows\n",
      "\n"
     ]
    }
   ],
   "source": [
    "df_zone_lookup.show()"
   ]
  },
  {
   "cell_type": "code",
   "execution_count": 5,
   "metadata": {},
   "outputs": [
    {
     "name": "stdout",
     "output_type": "stream",
     "text": [
      "root\n",
      " |-- LocationID: integer (nullable = true)\n",
      " |-- Borough: string (nullable = true)\n",
      " |-- Zone: string (nullable = true)\n",
      " |-- service_zone: string (nullable = true)\n",
      "\n",
      "root\n",
      " |-- VendorID: long (nullable = true)\n",
      " |-- lpep_pickup_datetime: timestamp (nullable = true)\n",
      " |-- lpep_dropoff_datetime: timestamp (nullable = true)\n",
      " |-- store_and_fwd_flag: string (nullable = true)\n",
      " |-- RatecodeID: double (nullable = true)\n",
      " |-- PULocationID: long (nullable = true)\n",
      " |-- DOLocationID: long (nullable = true)\n",
      " |-- passenger_count: double (nullable = true)\n",
      " |-- trip_distance: double (nullable = true)\n",
      " |-- fare_amount: double (nullable = true)\n",
      " |-- extra: double (nullable = true)\n",
      " |-- mta_tax: double (nullable = true)\n",
      " |-- tip_amount: double (nullable = true)\n",
      " |-- tolls_amount: double (nullable = true)\n",
      " |-- ehail_fee: integer (nullable = true)\n",
      " |-- improvement_surcharge: double (nullable = true)\n",
      " |-- total_amount: double (nullable = true)\n",
      " |-- payment_type: double (nullable = true)\n",
      " |-- trip_type: double (nullable = true)\n",
      " |-- congestion_surcharge: double (nullable = true)\n",
      "\n"
     ]
    }
   ],
   "source": [
    "df_zone_lookup.printSchema()\n",
    "df_green.printSchema()"
   ]
  },
  {
   "cell_type": "code",
   "execution_count": 45,
   "metadata": {},
   "outputs": [],
   "source": [
    "df_green_revenue = spark.sql(\"\"\"\n",
    "SELECT \n",
    "    date_trunc('hour', tg.lpep_pickup_datetime) AS hour, \n",
    "    tg.PULocationID AS zoneIDPU,\n",
    "    zl.Zone AS zone_name_PU,\n",
    "    tg.DOLocationID AS zoneIDDO,\n",
    "    zl1.Zone AS zone_name_DO,\n",
    "    SUM(tg.total_amount) AS amount,\n",
    "    COUNT(1) AS number_records\n",
    "FROM\n",
    "    taxi_green tg\n",
    "    Left JOIN zone_lookup zl\n",
    "    on tg.PULocationID = zl.LocationID  \n",
    "    Left JOIN zone_lookup zl1\n",
    "    on tg.DOLocationID = zl1.LocationID \n",
    "    \n",
    "where tg.lpep_pickup_datetime >= '2020-01-01 00:00:00'\n",
    "\n",
    "GROUP BY\n",
    "    hour, zoneIDPU,zoneIDDO,zone_name_PU,zone_name_DO\n",
    "    \n",
    "Order by hour asc\n",
    "\"\"\")\n"
   ]
  },
  {
   "cell_type": "code",
   "execution_count": 46,
   "metadata": {
    "scrolled": false
   },
   "outputs": [
    {
     "name": "stdout",
     "output_type": "stream",
     "text": [
      "+-------------------+--------+--------------------+--------+--------------------+------+--------------+\n",
      "|               hour|zoneIDPU|        zone_name_PU|zoneIDDO|        zone_name_DO|amount|number_records|\n",
      "+-------------------+--------+--------------------+--------+--------------------+------+--------------+\n",
      "|2021-01-01 06:00:00|     168|Mott Haven/Port M...|      75|   East Harlem South|   9.3|             1|\n",
      "|2021-01-01 07:00:00|      75|   East Harlem South|      75|   East Harlem South|  5.76|             1|\n",
      "|2021-01-01 07:00:00|     225|  Stuyvesant Heights|     265|                  NA| 42.05|             1|\n",
      "|2021-01-01 07:00:00|      61| Crown Heights North|      35|         Brownsville| 19.78|             1|\n",
      "|2021-01-01 07:00:00|     166| Morningside Heights|      41|      Central Harlem|   5.8|             1|\n",
      "|2021-01-01 07:00:00|      55|        Coney Island|     205|        Saint Albans| 57.25|             1|\n",
      "|2021-01-01 07:00:00|     116|    Hamilton Heights|      69|East Concourse/Co...|  11.3|             1|\n",
      "|2021-01-01 07:00:00|     182|         Parkchester|     235|University Height...|  21.8|             1|\n",
      "|2021-01-01 07:00:00|      74|   East Harlem North|     247|      West Concourse|  13.3|             1|\n",
      "|2021-01-01 07:00:00|      74|   East Harlem North|      74|   East Harlem North|   6.3|             1|\n",
      "|2021-01-01 07:00:00|     130|             Jamaica|      91|           Flatlands| 46.74|             1|\n",
      "|2021-01-01 07:00:00|      42|Central Harlem North|      41|      Central Harlem|   7.3|             1|\n",
      "|2021-01-01 07:00:00|      74|   East Harlem North|     238|Upper West Side N...| 14.05|             1|\n",
      "|2021-01-01 07:00:00|     193|Queensbridge/Rave...|     193|Queensbridge/Rave...|  15.0|             1|\n",
      "|2021-01-01 07:00:00|     116|    Hamilton Heights|     143| Lincoln Square West| 25.69|             1|\n",
      "|2021-01-01 07:00:00|      76|       East New York|     108|           Gravesend| 36.01|             1|\n",
      "|2021-01-01 07:00:00|     152|      Manhattanville|     117|     Hammels/Arverne| 84.92|             1|\n",
      "|2021-01-01 07:00:00|     168|Mott Haven/Port M...|     212|  Soundview/Bruckner| 22.29|             1|\n",
      "|2021-01-01 07:00:00|     116|    Hamilton Heights|      42|Central Harlem North|   5.3|             1|\n",
      "|2021-01-01 07:00:00|     247|      West Concourse|     167|  Morrisania/Melrose|   6.8|             1|\n",
      "+-------------------+--------+--------------------+--------+--------------------+------+--------------+\n",
      "only showing top 20 rows\n",
      "\n"
     ]
    }
   ],
   "source": [
    "df_green_revenue.show()"
   ]
  },
  {
   "cell_type": "code",
   "execution_count": 47,
   "metadata": {},
   "outputs": [],
   "source": [
    "df_yellow_revenue = spark.sql(\"\"\"\n",
    "SELECT \n",
    "    date_trunc('hour', ty.tpep_pickup_datetime) AS hour, \n",
    "    ty.PULocationID AS zoneIDPU,\n",
    "    zl.Zone AS zone_name_PU,\n",
    "    ty.DOLocationID AS zoneIDDO,\n",
    "    zl1.Zone AS zone_name_DO,\n",
    "    SUM(ty.total_amount) AS amount,\n",
    "    COUNT(1) AS number_records\n",
    "FROM\n",
    "    taxi_yellow ty\n",
    "    Left JOIN zone_lookup zl\n",
    "    on ty.PULocationID = zl.LocationID  \n",
    "    Left JOIN zone_lookup zl1\n",
    "On ty.DOLocationID = zl1.LocationID \n",
    "\n",
    "where ty.tpep_pickup_datetime >= '2020-01-01 00:00:00'\n",
    "\n",
    "GROUP BY\n",
    "    hour, zoneIDPU,zoneIDDO,zone_name_PU,zone_name_DO\n",
    "Order by hour \n",
    "\"\"\")"
   ]
  },
  {
   "cell_type": "code",
   "execution_count": 48,
   "metadata": {},
   "outputs": [
    {
     "name": "stdout",
     "output_type": "stream",
     "text": [
      "+-------------------+--------+--------------------+--------+--------------------+------+--------------+\n",
      "|               hour|zoneIDPU|        zone_name_PU|zoneIDDO|        zone_name_DO|amount|number_records|\n",
      "+-------------------+--------+--------------------+--------+--------------------+------+--------------+\n",
      "|2020-12-31 20:00:00|     170|         Murray Hill|     226|           Sunnyside| 20.38|             1|\n",
      "|2021-01-01 01:00:00|     142| Lincoln Square East|     233| UN/Turtle Bay South| 17.16|             1|\n",
      "|2021-01-01 01:00:00|     142| Lincoln Square East|      68|        East Chelsea|  14.3|             1|\n",
      "|2021-01-01 01:00:00|      48|        Clinton East|     238|Upper West Side N...|  12.8|             1|\n",
      "|2021-01-01 01:00:00|      48|        Clinton East|     239|Upper West Side S...| 14.04|             1|\n",
      "|2021-01-01 01:00:00|      90|            Flatiron|     229|Sutton Place/Turt...| 16.56|             1|\n",
      "|2021-01-01 01:00:00|      48|        Clinton East|     243|Washington Height...|  28.3|             1|\n",
      "|2021-01-01 04:00:00|     263|      Yorkville West|      74|   East Harlem North|  12.8|             1|\n",
      "|2021-01-01 04:00:00|     249|        West Village|     213|Soundview/Castle ...|  53.3|             1|\n",
      "|2021-01-01 04:00:00|      75|   East Harlem South|      74|   East Harlem North|   5.3|             1|\n",
      "|2021-01-01 06:00:00|     163|       Midtown North|     166| Morningside Heights| 23.76|             1|\n",
      "|2021-01-01 06:00:00|     231|TriBeCa/Civic Center|      17|             Bedford|  28.3|             1|\n",
      "|2021-01-01 06:00:00|      43|        Central Park|     200|Riverdale/North R...|  43.1|             1|\n",
      "|2021-01-01 06:00:00|      42|Central Harlem North|     137|            Kips Bay|  24.8|             1|\n",
      "|2021-01-01 06:00:00|     237|Upper East Side S...|     236|Upper East Side N...| 10.56|             1|\n",
      "|2021-01-01 06:00:00|     137|            Kips Bay|      79|        East Village| 14.12|             1|\n",
      "|2021-01-01 07:00:00|     151|    Manhattan Valley|     239|Upper West Side S...|  19.6|             2|\n",
      "|2021-01-01 07:00:00|     238|Upper West Side N...|       4|       Alphabet City|  23.3|             1|\n",
      "|2021-01-01 07:00:00|     230|Times Sq/Theatre ...|      50|        Clinton West| 11.76|             1|\n",
      "|2021-01-01 07:00:00|      87|Financial Distric...|     164|       Midtown South|  20.3|             1|\n",
      "+-------------------+--------+--------------------+--------+--------------------+------+--------------+\n",
      "only showing top 20 rows\n",
      "\n"
     ]
    }
   ],
   "source": [
    "df_yellow_revenue.show()"
   ]
  },
  {
   "cell_type": "code",
   "execution_count": 54,
   "metadata": {},
   "outputs": [],
   "source": [
    "df_green_revenue \\\n",
    "    .repartition(1) \\\n",
    "    .write.option('header','true')\\\n",
    "    .parquet('data/report/revenue/green', mode='overwrite')\n",
    "df_yellow_revenue \\\n",
    "    .repartition(1) \\\n",
    "    .write.option('header','true')\\\n",
    "    .parquet('data/report/revenue/yellow', mode='overwrite')"
   ]
  },
  {
   "cell_type": "code",
   "execution_count": 55,
   "metadata": {},
   "outputs": [],
   "source": [
    "df_green_revenue = spark.read.parquet('data/report/revenue/green')\n",
    "df_yellow_revenue = spark.read.parquet('data/report/revenue/yellow')"
   ]
  },
  {
   "cell_type": "code",
   "execution_count": 56,
   "metadata": {},
   "outputs": [],
   "source": [
    "df_green_revenue_tmp = df_green_revenue \\\n",
    "    .withColumnRenamed('amount', 'green_amount') \\\n",
    "    .withColumnRenamed('number_records', 'green_number_records')\n",
    "\n",
    "df_yellow_revenue_tmp = df_yellow_revenue \\\n",
    "    .withColumnRenamed('amount', 'yellow_amount') \\\n",
    "    .withColumnRenamed('number_records', 'yellow_number_records')"
   ]
  },
  {
   "cell_type": "code",
   "execution_count": 58,
   "metadata": {},
   "outputs": [],
   "source": [
    "df_join = df_green_revenue_tmp.join(df_yellow_revenue_tmp, on=['hour', 'zoneIDPU'], how='outer')"
   ]
  },
  {
   "cell_type": "code",
   "execution_count": 59,
   "metadata": {},
   "outputs": [
    {
     "name": "stdout",
     "output_type": "stream",
     "text": [
      "+-------------------+--------+------------+--------+------------+------------+--------------------+--------------------+--------+--------------------+------------------+---------------------+\n",
      "|               hour|zoneIDPU|zone_name_PU|zoneIDDO|zone_name_DO|green_amount|green_number_records|        zone_name_PU|zoneIDDO|        zone_name_DO|     yellow_amount|yellow_number_records|\n",
      "+-------------------+--------+------------+--------+------------+------------+--------------------+--------------------+--------+--------------------+------------------+---------------------+\n",
      "|2021-01-01 08:00:00|     186|        null|    null|        null|        null|                null|Penn Station/Madi...|     231|TriBeCa/Civic Center|              15.3|                    1|\n",
      "|2021-01-01 08:00:00|     186|        null|    null|        null|        null|                null|Penn Station/Madi...|     166| Morningside Heights|             31.55|                    1|\n",
      "|2021-01-01 08:00:00|     186|        null|    null|        null|        null|                null|Penn Station/Madi...|     235|University Height...|             42.96|                    1|\n",
      "|2021-01-01 08:00:00|     186|        null|    null|        null|        null|                null|Penn Station/Madi...|     163|       Midtown North|             13.56|                    1|\n",
      "|2021-01-01 08:00:00|     186|        null|    null|        null|        null|                null|Penn Station/Madi...|     234|            Union Sq|              10.3|                    1|\n",
      "|2021-01-01 08:00:00|     186|        null|    null|        null|        null|                null|Penn Station/Madi...|     164|       Midtown South|               9.3|                    1|\n",
      "|2021-01-01 08:00:00|     186|        null|    null|        null|        null|                null|Penn Station/Madi...|      80|   East Williamsburg|              25.3|                    1|\n",
      "|2021-01-01 08:00:00|     186|        null|    null|        null|        null|                null|Penn Station/Madi...|     186|Penn Station/Madi...|              17.8|                    1|\n",
      "|2021-01-01 08:00:00|     186|        null|    null|        null|        null|                null|Penn Station/Madi...|      48|        Clinton East|              11.3|                    1|\n",
      "|2021-01-01 08:00:00|     186|        null|    null|        null|        null|                null|Penn Station/Madi...|     230|Times Sq/Theatre ...|               9.3|                    1|\n",
      "|2021-01-01 08:00:00|     186|        null|    null|        null|        null|                null|Penn Station/Madi...|     177|          Ocean Hill|              36.3|                    1|\n",
      "|2021-01-01 08:00:00|     186|        null|    null|        null|        null|                null|Penn Station/Madi...|     249|        West Village|             12.25|                    1|\n",
      "|2021-01-01 08:00:00|     186|        null|    null|        null|        null|                null|Penn Station/Madi...|     224|Stuy Town/Peter C...|              13.3|                    1|\n",
      "|2021-01-01 08:00:00|     186|        null|    null|        null|        null|                null|Penn Station/Madi...|     229|Sutton Place/Turt...|             17.88|                    1|\n",
      "|2021-01-01 08:00:00|     186|        null|    null|        null|        null|                null|Penn Station/Madi...|     141|     Lenox Hill West|             33.66|                    2|\n",
      "|2021-01-01 08:00:00|     186|        null|    null|        null|        null|                null|Penn Station/Madi...|      88|Financial Distric...|             24.35|                    1|\n",
      "|2021-01-01 08:00:00|     186|        null|    null|        null|        null|                null|Penn Station/Madi...|     114|Greenwich Village...|             16.55|                    1|\n",
      "|2021-01-01 08:00:00|     186|        null|    null|        null|        null|                null|Penn Station/Madi...|     137|            Kips Bay|29.060000000000002|                    2|\n",
      "|2021-01-01 08:00:00|     186|        null|    null|        null|        null|                null|Penn Station/Madi...|     112|          Greenpoint|              26.3|                    1|\n",
      "|2021-01-01 08:00:00|     186|        null|    null|        null|        null|                null|Penn Station/Madi...|     145|Long Island City/...|             25.05|                    1|\n",
      "+-------------------+--------+------------+--------+------------+------------+--------------------+--------------------+--------+--------------------+------------------+---------------------+\n",
      "only showing top 20 rows\n",
      "\n"
     ]
    }
   ],
   "source": [
    "df_join.show()"
   ]
  },
  {
   "cell_type": "code",
   "execution_count": null,
   "metadata": {},
   "outputs": [],
   "source": []
  }
 ],
 "metadata": {
  "kernelspec": {
   "display_name": "Python 3",
   "language": "python",
   "name": "python3"
  },
  "language_info": {
   "codemirror_mode": {
    "name": "ipython",
    "version": 3
   },
   "file_extension": ".py",
   "mimetype": "text/x-python",
   "name": "python",
   "nbconvert_exporter": "python",
   "pygments_lexer": "ipython3",
   "version": "3.8.5"
  }
 },
 "nbformat": 4,
 "nbformat_minor": 4
}
