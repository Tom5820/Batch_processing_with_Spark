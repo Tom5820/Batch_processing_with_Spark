{
 "cells": [
  {
   "cell_type": "code",
   "execution_count": 1,
   "metadata": {},
   "outputs": [],
   "source": [
    "import findspark\n",
    "findspark.init('C:\\Spark\\spark-3.1.3-bin-hadoop3.2')\n",
    "import pyspark\n",
    "from pyspark.sql import SparkSession"
   ]
  },
  {
   "cell_type": "code",
   "execution_count": 2,
   "metadata": {},
   "outputs": [],
   "source": [
    "spark = SparkSession.builder \\\n",
    "    .master(\"local[*]\") \\\n",
    "    .appName('test') \\\n",
    "    .getOrCreate()"
   ]
  },
  {
   "cell_type": "code",
   "execution_count": null,
   "metadata": {},
   "outputs": [],
   "source": [
    "# !wget https://d37ci6vzurychx.cloudfront.net/trip-data/fhvhv_tripdata_2021-01.parquet"
   ]
  },
  {
   "cell_type": "code",
   "execution_count": 20,
   "metadata": {},
   "outputs": [],
   "source": [
    "# dt_parquet = spark.read.parquet('fhvhv_tripdata_2021-01.parquet')\n",
    "# dt_parquet.repartition(1).write.mode('overwrite').csv('parquet_to_csv')"
   ]
  },
  {
   "cell_type": "code",
   "execution_count": 3,
   "metadata": {},
   "outputs": [],
   "source": [
    "df = spark.read.option('header','true').csv('fhvhv_tripdata_2021-01.csv')"
   ]
  },
  {
   "cell_type": "code",
   "execution_count": 4,
   "metadata": {},
   "outputs": [
    {
     "data": {
      "text/plain": [
       "StructType(List(StructField(hvfhs_license_num,StringType,true),StructField(dispatching_base_num,StringType,true),StructField(originating_base_num,StringType,true),StructField(request_datetime,StringType,true),StructField(on_scene_datetime,StringType,true),StructField(pickup_datetime,StringType,true),StructField(dropoff_datetime,StringType,true),StructField(PULocationID,StringType,true),StructField(DOLocationID,StringType,true),StructField(trip_miles,StringType,true),StructField(trip_time,StringType,true),StructField(base_passenger_fare,StringType,true),StructField(tolls,StringType,true),StructField(bcf,StringType,true),StructField(sales_tax,StringType,true),StructField(congestion_surcharge,StringType,true),StructField(airport_fee,StringType,true),StructField(tips,StringType,true),StructField(driver_pay,StringType,true),StructField(shared_request_flag,StringType,true),StructField(shared_match_flag,StringType,true),StructField(access_a_ride_flag,StringType,true),StructField(wav_request_flag,StringType,true),StructField(wav_match_flag,StringType,true)))"
      ]
     },
     "execution_count": 4,
     "metadata": {},
     "output_type": "execute_result"
    }
   ],
   "source": [
    "df.schema"
   ]
  },
  {
   "cell_type": "code",
   "execution_count": 5,
   "metadata": {},
   "outputs": [],
   "source": [
    "import pandas as pd"
   ]
  },
  {
   "cell_type": "code",
   "execution_count": 6,
   "metadata": {},
   "outputs": [
    {
     "data": {
      "text/plain": [
       "hvfhs_license_num        object\n",
       "dispatching_base_num     object\n",
       "originating_base_num     object\n",
       "request_datetime         object\n",
       "on_scene_datetime        object\n",
       "pickup_datetime          object\n",
       "dropoff_datetime         object\n",
       "PULocationID              int64\n",
       "DOLocationID              int64\n",
       "trip_miles              float64\n",
       "trip_time                 int64\n",
       "base_passenger_fare     float64\n",
       "tolls                   float64\n",
       "bcf                     float64\n",
       "sales_tax               float64\n",
       "congestion_surcharge    float64\n",
       "airport_fee             float64\n",
       "tips                    float64\n",
       "driver_pay              float64\n",
       "shared_request_flag      object\n",
       "shared_match_flag        object\n",
       "access_a_ride_flag       object\n",
       "wav_request_flag         object\n",
       "wav_match_flag           object\n",
       "dtype: object"
      ]
     },
     "execution_count": 6,
     "metadata": {},
     "output_type": "execute_result"
    }
   ],
   "source": [
    "df_pandas = pd.read_csv('head.csv')\n",
    "df_pandas.dtypes"
   ]
  },
  {
   "cell_type": "code",
   "execution_count": 7,
   "metadata": {},
   "outputs": [],
   "source": [
    "from pyspark.sql import types"
   ]
  },
  {
   "cell_type": "code",
   "execution_count": 8,
   "metadata": {},
   "outputs": [],
   "source": [
    "schema_types = types.StructType([\n",
    "types.StructField('hvfhs_license_num',types.StringType(),True),\n",
    "types.StructField('dispatching_base_num',types.StringType(),True),\n",
    "types.StructField('originating_base_num',types.StringType(),True),\n",
    "types.StructField('request_datetime',types.TimestampType(),True),\n",
    "types.StructField('on_scene_datetime',types.TimestampType(),True),\n",
    "types.StructField('pickup_datetime',types.TimestampType(),True),\n",
    "types.StructField('dropoff_datetime',types.TimestampType(),True),\n",
    "types.StructField('PULocationID',types.IntegerType(),True),\n",
    "types.StructField('DOLocationID',types.IntegerType(),True),\n",
    "types.StructField('trip_miles',types.DoubleType(),True),\n",
    "types.StructField('trip_time',types.DoubleType(),True),\n",
    "types.StructField('base_passenger_fare',types.DoubleType(),True),\n",
    "types.StructField('tolls',types.DoubleType(),True),\n",
    "types.StructField('bcf',types.DoubleType(),True),\n",
    "types.StructField('sales_tax',types.DoubleType(),True),\n",
    "types.StructField('congestion_surcharge',types.DoubleType(),True),\n",
    "types.StructField('airport_fee',types.DoubleType(),True),\n",
    "types.StructField('tips',types.DoubleType(),True),\n",
    "types.StructField('driver_pay',types.DoubleType(),True),\n",
    "types.StructField('shared_request_flag',types.StringType(),True),\n",
    "types.StructField('shared_match_flag',types.StringType(),True),\n",
    "types.StructField('access_a_ride_flag',types.StringType(),True),\n",
    "types.StructField('wav_request_flag',types.StringType(),True),\n",
    "types.StructField('wav_match_flag',types.StringType(),True)])"
   ]
  },
  {
   "cell_type": "code",
   "execution_count": 9,
   "metadata": {},
   "outputs": [],
   "source": [
    "df = spark.read \\\n",
    "    .option(\"header\", \"true\") \\\n",
    "    .schema(schema_types) \\\n",
    "    .csv('fhvhv_tripdata_2021-01.csv')"
   ]
  },
  {
   "cell_type": "code",
   "execution_count": 13,
   "metadata": {},
   "outputs": [],
   "source": [
    "# df.repartition(24).write.parquet('fhvhv/')"
   ]
  },
  {
   "cell_type": "code",
   "execution_count": 10,
   "metadata": {},
   "outputs": [],
   "source": [
    "df_read_parquet = spark.read.parquet('fhvhv/')"
   ]
  },
  {
   "cell_type": "code",
   "execution_count": 11,
   "metadata": {},
   "outputs": [
    {
     "name": "stdout",
     "output_type": "stream",
     "text": [
      "root\n",
      " |-- hvfhs_license_num: string (nullable = true)\n",
      " |-- dispatching_base_num: string (nullable = true)\n",
      " |-- originating_base_num: string (nullable = true)\n",
      " |-- request_datetime: timestamp (nullable = true)\n",
      " |-- on_scene_datetime: timestamp (nullable = true)\n",
      " |-- pickup_datetime: timestamp (nullable = true)\n",
      " |-- dropoff_datetime: timestamp (nullable = true)\n",
      " |-- PULocationID: integer (nullable = true)\n",
      " |-- DOLocationID: integer (nullable = true)\n",
      " |-- trip_miles: double (nullable = true)\n",
      " |-- trip_time: double (nullable = true)\n",
      " |-- base_passenger_fare: double (nullable = true)\n",
      " |-- tolls: double (nullable = true)\n",
      " |-- bcf: double (nullable = true)\n",
      " |-- sales_tax: double (nullable = true)\n",
      " |-- congestion_surcharge: double (nullable = true)\n",
      " |-- airport_fee: double (nullable = true)\n",
      " |-- tips: double (nullable = true)\n",
      " |-- driver_pay: double (nullable = true)\n",
      " |-- shared_request_flag: string (nullable = true)\n",
      " |-- shared_match_flag: string (nullable = true)\n",
      " |-- access_a_ride_flag: string (nullable = true)\n",
      " |-- wav_request_flag: string (nullable = true)\n",
      " |-- wav_match_flag: string (nullable = true)\n",
      "\n"
     ]
    }
   ],
   "source": [
    "df_read_parquet.printSchema()"
   ]
  },
  {
   "cell_type": "code",
   "execution_count": 12,
   "metadata": {},
   "outputs": [
    {
     "name": "stdout",
     "output_type": "stream",
     "text": [
      "+-------------------+-------------------+------------+------------+\n",
      "|    pickup_datetime|   dropoff_datetime|PULocationID|DOLocationID|\n",
      "+-------------------+-------------------+------------+------------+\n",
      "|2021-01-01 00:33:44|2021-01-01 00:49:07|         230|         166|\n",
      "|2021-01-01 00:55:19|2021-01-01 01:18:21|         152|         167|\n",
      "|2021-01-01 00:23:56|2021-01-01 00:38:05|         233|         142|\n",
      "|2021-01-01 00:42:51|2021-01-01 00:45:50|         142|         143|\n",
      "|2021-01-01 00:48:14|2021-01-01 01:08:42|         143|          78|\n",
      "|2021-01-01 00:14:30|2021-01-01 00:50:27|          71|         226|\n",
      "|2021-01-01 00:22:54|2021-01-01 00:30:20|         112|         255|\n",
      "|2021-01-01 00:40:12|2021-01-01 00:53:31|         255|         232|\n",
      "|2021-01-01 00:56:45|2021-01-01 01:17:42|         232|         198|\n",
      "|2021-01-01 00:29:04|2021-01-01 00:36:27|         113|          48|\n",
      "|2021-01-01 00:48:56|2021-01-01 00:59:12|         239|          75|\n",
      "|2021-01-01 00:11:53|2021-01-01 00:18:06|         256|         148|\n",
      "|2021-01-01 00:28:31|2021-01-01 00:41:40|          79|          80|\n",
      "|2021-01-01 00:50:49|2021-01-01 00:55:59|          17|         217|\n",
      "|2021-01-01 00:53:48|2021-01-01 01:11:40|          22|          22|\n",
      "|2021-01-01 00:36:21|2021-01-01 00:57:41|         146|         129|\n",
      "|2021-01-01 00:14:21|2021-01-01 00:21:16|          37|         225|\n",
      "|2021-01-01 00:26:37|2021-01-01 01:08:20|         225|          47|\n",
      "|2021-01-01 00:19:11|2021-01-01 00:33:49|          81|          32|\n",
      "|2021-01-01 00:39:51|2021-01-01 00:58:51|          32|         126|\n",
      "+-------------------+-------------------+------------+------------+\n",
      "only showing top 20 rows\n",
      "\n"
     ]
    }
   ],
   "source": [
    "df.select('pickup_datetime', 'dropoff_datetime', 'PULocationID', 'DOLocationID').filter(df.hvfhs_license_num == 'HV0003').show()"
   ]
  },
  {
   "cell_type": "code",
   "execution_count": 13,
   "metadata": {},
   "outputs": [],
   "source": [
    "from pyspark.sql import functions as F"
   ]
  },
  {
   "cell_type": "code",
   "execution_count": 26,
   "metadata": {},
   "outputs": [],
   "source": [
    "def miles_to_km(miles):\n",
    "    km = 0\n",
    "    if float(miles) > 0 :\n",
    "        km = round(float(miles) * 1.609344,2)\n",
    "    return km\n",
    "\n",
    "def average_speed(km, second):\n",
    "    average_speed = 0\n",
    "    if int(second) > 0:\n",
    "        average_speed = round(float(float(km)/(int(second)/3600)),2)  \n",
    "    return str(average_speed) +'km/h'"
   ]
  },
  {
   "cell_type": "code",
   "execution_count": 27,
   "metadata": {
    "scrolled": true
   },
   "outputs": [
    {
     "name": "stdout",
     "output_type": "stream",
     "text": [
      "1.19\n"
     ]
    },
    {
     "data": {
      "text/plain": [
       "'23.93km/h'"
      ]
     },
     "execution_count": 27,
     "metadata": {},
     "output_type": "execute_result"
    }
   ],
   "source": [
    "a = miles_to_km(0.74)\n",
    "print(a)\n",
    "average_speed(a,179)\n"
   ]
  },
  {
   "cell_type": "code",
   "execution_count": 28,
   "metadata": {},
   "outputs": [],
   "source": [
    "km_udf = F.udf(miles_to_km, returnType=types.StringType())\n",
    "avg_speed_udf = F.udf(average_speed, returnType=types.StringType())"
   ]
  },
  {
   "cell_type": "code",
   "execution_count": 30,
   "metadata": {},
   "outputs": [
    {
     "name": "stdout",
     "output_type": "stream",
     "text": [
      "+-----------------+-----------+------------+------------+------------+----------+---------+-------+-------------+\n",
      "|hvfhs_license_num|pickup_date|dropoff_date|PULocationID|DOLocationID|trip_miles|trip_time|trip_km|average_speed|\n",
      "+-----------------+-----------+------------+------------+------------+----------+---------+-------+-------------+\n",
      "|           HV0003| 2021-01-01|  2021-01-01|         230|         166|      5.26|    923.0|   8.47|    33.04km/h|\n",
      "|           HV0003| 2021-01-01|  2021-01-01|         152|         167|      3.65|   1382.0|   5.87|    15.29km/h|\n",
      "|           HV0003| 2021-01-01|  2021-01-01|         233|         142|      3.51|    849.0|   5.65|    23.96km/h|\n",
      "|           HV0003| 2021-01-01|  2021-01-01|         142|         143|      0.74|    179.0|   1.19|    23.93km/h|\n",
      "|           HV0003| 2021-01-01|  2021-01-01|         143|          78|       9.2|   1228.0|  14.81|    43.42km/h|\n",
      "|           HV0005| 2021-01-01|  2021-01-01|          88|          42|     9.725|   2162.0|  15.65|    26.06km/h|\n",
      "|           HV0005| 2021-01-01|  2021-01-01|          42|         151|     2.469|    897.0|   3.97|    15.93km/h|\n",
      "|           HV0003| 2021-01-01|  2021-01-01|          71|         226|     13.53|   2157.0|  21.77|    36.33km/h|\n",
      "|           HV0003| 2021-01-01|  2021-01-01|         112|         255|       1.6|    446.0|   2.57|    20.74km/h|\n",
      "|           HV0003| 2021-01-01|  2021-01-01|         255|         232|       3.2|    800.0|   5.15|    23.18km/h|\n",
      "|           HV0003| 2021-01-01|  2021-01-01|         232|         198|      5.74|   1257.0|   9.24|    26.46km/h|\n",
      "|           HV0003| 2021-01-01|  2021-01-01|         113|          48|       1.8|    443.0|    2.9|    23.57km/h|\n",
      "|           HV0003| 2021-01-01|  2021-01-01|         239|          75|       2.9|    616.0|   4.67|    27.29km/h|\n",
      "|           HV0004| 2021-01-01|  2021-01-01|         181|         237|      9.66|   1387.0|  15.55|    40.36km/h|\n",
      "|           HV0004| 2021-01-01|  2021-01-01|         236|          68|      4.38|   1305.0|   7.05|    19.45km/h|\n",
      "|           HV0003| 2021-01-01|  2021-01-01|         256|         148|      2.03|    373.0|   3.27|    31.56km/h|\n",
      "|           HV0003| 2021-01-01|  2021-01-01|          79|          80|      3.08|    789.0|   4.96|    22.63km/h|\n",
      "|           HV0003| 2021-01-01|  2021-01-01|          17|         217|      1.17|    310.0|   1.88|    21.83km/h|\n",
      "|           HV0005| 2021-01-01|  2021-01-01|          62|          29|    10.852|   1859.0|  17.46|    33.81km/h|\n",
      "|           HV0003| 2021-01-01|  2021-01-01|          22|          22|      3.52|   1072.0|   5.66|    19.01km/h|\n",
      "+-----------------+-----------+------------+------------+------------+----------+---------+-------+-------------+\n",
      "only showing top 20 rows\n",
      "\n"
     ]
    }
   ],
   "source": [
    "df \\\n",
    "    .withColumn('pickup_date', F.to_date(df.pickup_datetime)) \\\n",
    "    .withColumn('dropoff_date', F.to_date(df.dropoff_datetime)) \\\n",
    "    .withColumn('trip_km', km_udf(df.trip_miles)) \\\n",
    "    .withColumn('average_speed', avg_speed_udf(km_udf(df.trip_miles),df.trip_time)) \\\n",
    "    .select('hvfhs_license_num','pickup_date', 'dropoff_date', 'PULocationID', 'DOLocationID','trip_miles','trip_time','trip_km','average_speed') \\\n",
    "    .show()"
   ]
  },
  {
   "cell_type": "code",
   "execution_count": null,
   "metadata": {},
   "outputs": [],
   "source": []
  }
 ],
 "metadata": {
  "kernelspec": {
   "display_name": "Python 3",
   "language": "python",
   "name": "python3"
  },
  "language_info": {
   "codemirror_mode": {
    "name": "ipython",
    "version": 3
   },
   "file_extension": ".py",
   "mimetype": "text/x-python",
   "name": "python",
   "nbconvert_exporter": "python",
   "pygments_lexer": "ipython3",
   "version": "3.8.5"
  }
 },
 "nbformat": 4,
 "nbformat_minor": 4
}
